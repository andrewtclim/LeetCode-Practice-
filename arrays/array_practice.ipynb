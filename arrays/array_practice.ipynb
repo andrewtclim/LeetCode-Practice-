{
 "cells": [
  {
   "cell_type": "markdown",
   "id": "1ec2505d",
   "metadata": {},
   "source": [
    "#### Leetcode 541: Reverse String II\n",
    "Given a string s and an integer k, reverse the first k characters for every 2k characters counting from the start of the string.\n",
    "\n",
    "If there are fewer than k characters left, reverse all of them. If there are less than 2k but greater than or equal to k characters, then reverse the first k characters and leave the other as original. \n",
    "\n",
    "Example 1:\n",
    "\n",
    "Input: s = \"abcdefg\", k = 2\n",
    "Output: \"bacdfeg\"\n",
    "\n"
   ]
  },
  {
   "cell_type": "markdown",
   "id": "86a491ac",
   "metadata": {},
   "source": [
    "#### Thought process\n",
    "1. Break down the string into chunks that are 2k in size\n",
    "2. From each chunk reverse the first k-chars and keep track of the remainder\n",
    "3. Put these chunks together and append to our result\n",
    "4. Our res starts as a list (append chunks as they come) but will be returned as a string"
   ]
  },
  {
   "cell_type": "code",
   "execution_count": null,
   "id": "fdd7d0c5",
   "metadata": {},
   "outputs": [],
   "source": [
    "from typing import List"
   ]
  },
  {
   "cell_type": "code",
   "execution_count": 4,
   "id": "f9aab57b",
   "metadata": {},
   "outputs": [],
   "source": [
    "def reverseStr(s:str, k:int) -> str:\n",
    "    # initalize res\n",
    "    res = []\n",
    "\n",
    "    # iterate and skip over 2k chars EX) if k=2 then step indicies by 0,4,8, etc...\n",
    "    for i in range(0, len(s), 2*k):\n",
    "        # create chunks of 2k size\n",
    "        chunk = s[i:i+2*k]\n",
    "        # reverse the first k-part of chunk\n",
    "        reverse_part = chunk[:k][::-1]\n",
    "        # track the remaining chunk \n",
    "        remaining_part = chunk[k:]\n",
    "        # append the chunk into res\n",
    "        res.append(reverse_part+remaining_part)\n",
    "    \n",
    "    # return as a string\n",
    "    return \"\".join(res)"
   ]
  },
  {
   "cell_type": "code",
   "execution_count": 5,
   "id": "430e2f19",
   "metadata": {},
   "outputs": [
    {
     "data": {
      "text/plain": [
       "'bacdfe'"
      ]
     },
     "execution_count": 5,
     "metadata": {},
     "output_type": "execute_result"
    }
   ],
   "source": [
    "reverseStr(\"abcdef\", 2)"
   ]
  },
  {
   "cell_type": "code",
   "execution_count": null,
   "id": "e82313ee",
   "metadata": {},
   "outputs": [],
   "source": []
  },
  {
   "cell_type": "code",
   "execution_count": null,
   "id": "85f023a8",
   "metadata": {},
   "outputs": [],
   "source": []
  },
  {
   "cell_type": "code",
   "execution_count": null,
   "id": "5dcf1c92",
   "metadata": {},
   "outputs": [],
   "source": []
  }
 ],
 "metadata": {
  "kernelspec": {
   "display_name": "general_python",
   "language": "python",
   "name": "python3"
  },
  "language_info": {
   "codemirror_mode": {
    "name": "ipython",
    "version": 3
   },
   "file_extension": ".py",
   "mimetype": "text/x-python",
   "name": "python",
   "nbconvert_exporter": "python",
   "pygments_lexer": "ipython3",
   "version": "3.12.9"
  }
 },
 "nbformat": 4,
 "nbformat_minor": 5
}
