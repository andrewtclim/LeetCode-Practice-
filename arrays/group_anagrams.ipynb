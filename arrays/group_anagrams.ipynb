{
 "cells": [
  {
   "cell_type": "markdown",
   "id": "a247d813",
   "metadata": {},
   "source": [
    "#### Leetcode 49\n",
    "Given an array of strings strs, group the together. You can return the answer in any order.\n",
    "\n",
    "Example 1:\n",
    "\n",
    "Input: strs = [\"eat\",\"tea\",\"tan\",\"ate\",\"nat\",\"bat\"]\n",
    "\n",
    "Output: [[\"bat\"],[\"nat\",\"tan\"],[\"ate\",\"eat\",\"tea\"]]\n",
    "\n",
    "Explanation:\n",
    "\n",
    "    There is no string in strs that can be rearranged to form \"bat\".\n",
    "    The strings \"nat\" and \"tan\" are anagrams as they can be rearranged to form each other.\n",
    "    The strings \"ate\", \"eat\", and \"tea\" are anagrams as they can be rearranged to form each other.\n",
    "\n",
    "\n"
   ]
  },
  {
   "cell_type": "markdown",
   "id": "58899f18",
   "metadata": {},
   "source": [
    "#### Approach\n",
    "1. First initalize a hashmap. The structure will look like {(char_count_key):[[associated anagrams w/ that char_count]]}\n",
    "2. For each word create a char_count key, initalize this as [0]*26 since there are 26 letters in alphabet\n",
    "3. Create char_count key by adding to each letter sequence (ex: \"a\" means adding 1 to the first position)\n",
    "4. Keys in hashmaps must be immutable so make char_count a tuple\n",
    "5. Initalize hashmap with empty list values (if we have not seen this char_count before)\n",
    "6. Populate each list with associated anagrams\n",
    "7. Return the values of the list as a list of lists"
   ]
  },
  {
   "cell_type": "code",
   "execution_count": 2,
   "id": "85dafe9f",
   "metadata": {},
   "outputs": [],
   "source": [
    "from typing import List"
   ]
  },
  {
   "cell_type": "code",
   "execution_count": 16,
   "id": "74065848",
   "metadata": {},
   "outputs": [],
   "source": [
    "def groupAnagrams(strs:List[str]) -> List[List[str]]:\n",
    "    # initalize hashmap\n",
    "    res = {}\n",
    "\n",
    "    for word in strs:\n",
    "        # create char_count key for each word\n",
    "        char_count = [0] * 26\n",
    "        for c in word:\n",
    "            char_count[ord(c)-ord(\"a\")] += 1\n",
    "        char_count = tuple(char_count)\n",
    "\n",
    "        # initalize hashmap with empty lists\n",
    "        if char_count not in res:\n",
    "            res[char_count] = []\n",
    "        \n",
    "        # populate hashmap with associated anagrams\n",
    "        res[char_count].append(word)\n",
    "    \n",
    "    # return anagrams as a list of list\n",
    "    return list(res.values())\n"
   ]
  },
  {
   "cell_type": "code",
   "execution_count": 17,
   "id": "d901cab4",
   "metadata": {},
   "outputs": [
    {
     "data": {
      "text/plain": [
       "[['eat', 'tea', 'ate'], ['tan', 'nat'], ['bat']]"
      ]
     },
     "execution_count": 17,
     "metadata": {},
     "output_type": "execute_result"
    }
   ],
   "source": [
    "groupAnagrams(strs = [\"eat\",\"tea\",\"tan\",\"ate\",\"nat\",\"bat\"])"
   ]
  },
  {
   "cell_type": "code",
   "execution_count": 18,
   "id": "27b57fd7",
   "metadata": {},
   "outputs": [
    {
     "name": "stdout",
     "output_type": "stream",
     "text": [
      "99 and 97\n"
     ]
    }
   ],
   "source": [
    "# char_count key uses ord or Unicode point of characters\n",
    "print(f\"{ord(\"c\")} and {ord(\"a\")}\") "
   ]
  },
  {
   "cell_type": "code",
   "execution_count": null,
   "id": "14c590d5",
   "metadata": {},
   "outputs": [],
   "source": [
    "# We can also use a sorted string as our dictionary key, since strings are also immutable\n",
    "# This is slower since sorting takes O(n log n) time\n",
    "\n",
    "def groupAnagrams_II(strs:List[str]) -> List[List[str]]:\n",
    "    # initalize hashmap\n",
    "    res = {}\n",
    "\n",
    "    for word in strs:\n",
    "        # create sorted_word key (as a string) for each word\n",
    "        sorted_word = \"\".join(sorted(word))\n",
    "\n",
    "        # initalize hashmap with empty lists\n",
    "        if sorted_word not in res:\n",
    "            res[sorted_word] = []\n",
    "        \n",
    "        # populate hashmap with associated anagrams\n",
    "        res[sorted_word].append(word)\n",
    "    \n",
    "    # return anagrams as a list of list\n",
    "    return list(res.values())"
   ]
  },
  {
   "cell_type": "code",
   "execution_count": 26,
   "id": "86360f57",
   "metadata": {},
   "outputs": [
    {
     "data": {
      "text/plain": [
       "[['eat', 'tea', 'ate'], ['tan', 'nat'], ['bat']]"
      ]
     },
     "execution_count": 26,
     "metadata": {},
     "output_type": "execute_result"
    }
   ],
   "source": [
    "groupAnagrams_II(strs = [\"eat\",\"tea\",\"tan\",\"ate\",\"nat\",\"bat\"])"
   ]
  },
  {
   "cell_type": "code",
   "execution_count": 27,
   "id": "d96eb2e0",
   "metadata": {},
   "outputs": [
    {
     "data": {
      "text/plain": [
       "['e', 'h', 'l', 'l', 'o']"
      ]
     },
     "execution_count": 27,
     "metadata": {},
     "output_type": "execute_result"
    }
   ],
   "source": [
    "sorted(\"hello\")"
   ]
  },
  {
   "cell_type": "code",
   "execution_count": null,
   "id": "9476bbca",
   "metadata": {},
   "outputs": [],
   "source": []
  }
 ],
 "metadata": {
  "kernelspec": {
   "display_name": "general_python",
   "language": "python",
   "name": "python3"
  },
  "language_info": {
   "codemirror_mode": {
    "name": "ipython",
    "version": 3
   },
   "file_extension": ".py",
   "mimetype": "text/x-python",
   "name": "python",
   "nbconvert_exporter": "python",
   "pygments_lexer": "ipython3",
   "version": "3.12.9"
  }
 },
 "nbformat": 4,
 "nbformat_minor": 5
}
