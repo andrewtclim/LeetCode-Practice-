{
 "cells": [
  {
   "cell_type": "code",
   "execution_count": 3,
   "id": "395a14ef",
   "metadata": {},
   "outputs": [],
   "source": [
    "# Leetcode 13 \n",
    "# Function converts a string of roman numerals to it's integer value\n",
    "\n",
    "class LeetCodeFunctions:\n",
    "    def romanToInt(self, s:str) -> int:\n",
    "        # initalize hashmap (roman -> num value)\n",
    "        roman_num = {\"I\":1,\n",
    "                     \"V\":5,\n",
    "                     \"X\":10,\n",
    "                     \"L\":50,\n",
    "                     \"C\":100,\n",
    "                     \"D\":500,\n",
    "                     \"M\":1000}\n",
    "        res = 0 \n",
    "\n",
    "        for i in range(len(s)):\n",
    "            # index is in bounds and we find a roman small -> large (ex: IV = 4)\n",
    "            if i + 1 < len(s) and roman_num[s[i]] < roman_num[s[i+1]]:\n",
    "                res -= roman_num[s[i]]\n",
    "            # otherwise large -> small (ex: VI = 6), add values\n",
    "            else:\n",
    "                res += roman_num[s[i]]\n",
    "        \n",
    "        return res\n",
    "                        "
   ]
  },
  {
   "cell_type": "code",
   "execution_count": 4,
   "id": "dcd44587",
   "metadata": {},
   "outputs": [],
   "source": [
    "test = LeetCodeFunctions()"
   ]
  },
  {
   "cell_type": "code",
   "execution_count": 6,
   "id": "d014a2f3",
   "metadata": {},
   "outputs": [
    {
     "data": {
      "text/plain": [
       "16"
      ]
     },
     "execution_count": 6,
     "metadata": {},
     "output_type": "execute_result"
    }
   ],
   "source": [
    "test.romanToInt(\"XVI\")"
   ]
  },
  {
   "cell_type": "code",
   "execution_count": null,
   "id": "99951633",
   "metadata": {},
   "outputs": [],
   "source": []
  }
 ],
 "metadata": {
  "kernelspec": {
   "display_name": "general_python",
   "language": "python",
   "name": "python3"
  },
  "language_info": {
   "codemirror_mode": {
    "name": "ipython",
    "version": 3
   },
   "file_extension": ".py",
   "mimetype": "text/x-python",
   "name": "python",
   "nbconvert_exporter": "python",
   "pygments_lexer": "ipython3",
   "version": "3.12.9"
  }
 },
 "nbformat": 4,
 "nbformat_minor": 5
}
