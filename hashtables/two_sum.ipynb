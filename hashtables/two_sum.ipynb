{
 "cells": [
  {
   "cell_type": "code",
   "execution_count": 2,
   "id": "ad99b5d1",
   "metadata": {},
   "outputs": [],
   "source": [
    "from typing import List"
   ]
  },
  {
   "cell_type": "code",
   "execution_count": 4,
   "id": "2a0c7ed3",
   "metadata": {},
   "outputs": [],
   "source": [
    "def two_sum(nums:List[int], target:int) -> int:\n",
    "    # initalize hashmap \n",
    "    seen = {}\n",
    "\n",
    "    for i, n in enumerate(nums):\n",
    "        comp = target - n \n",
    "        if comp in seen:\n",
    "            return [seen[comp], i]\n",
    "        # populate hashmap with num : index pairs\n",
    "        seen[n] = i\n",
    "\n"
   ]
  },
  {
   "cell_type": "code",
   "execution_count": 5,
   "id": "63be45d2",
   "metadata": {},
   "outputs": [
    {
     "data": {
      "text/plain": [
       "[3, 4]"
      ]
     },
     "execution_count": 5,
     "metadata": {},
     "output_type": "execute_result"
    }
   ],
   "source": [
    "two_sum([1,2,3,4,5], 9)"
   ]
  },
  {
   "cell_type": "code",
   "execution_count": null,
   "id": "a6f2108f",
   "metadata": {},
   "outputs": [],
   "source": []
  }
 ],
 "metadata": {
  "kernelspec": {
   "display_name": "base",
   "language": "python",
   "name": "python3"
  },
  "language_info": {
   "codemirror_mode": {
    "name": "ipython",
    "version": 3
   },
   "file_extension": ".py",
   "mimetype": "text/x-python",
   "name": "python",
   "nbconvert_exporter": "python",
   "pygments_lexer": "ipython3",
   "version": "3.12.7"
  }
 },
 "nbformat": 4,
 "nbformat_minor": 5
}
