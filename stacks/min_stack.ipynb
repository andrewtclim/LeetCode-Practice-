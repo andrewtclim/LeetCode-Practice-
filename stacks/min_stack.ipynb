{
 "cells": [
  {
   "cell_type": "markdown",
   "id": "3af79baf",
   "metadata": {},
   "source": [
    "Leetcode 155\n",
    "\n",
    "The MinStack class is similar to the stack data structure\n",
    "\n",
    "It also keeps track of the minimum value in the stack and is able to return this using .getMin() method "
   ]
  },
  {
   "cell_type": "code",
   "execution_count": 1,
   "id": "c062c060",
   "metadata": {},
   "outputs": [],
   "source": [
    "from typing import List"
   ]
  },
  {
   "cell_type": "code",
   "execution_count": 33,
   "id": "c099b2de",
   "metadata": {},
   "outputs": [],
   "source": [
    "class MinStack:\n",
    "\n",
    "    def __init__(self):\n",
    "        # initalize class object with two stacks\n",
    "        self.stack = []\n",
    "        self.min_stack = []\n",
    "\n",
    "    def push(self, val):\n",
    "        # push values into stack as normal\n",
    "        self.stack.append(val)\n",
    "\n",
    "        # always keep the min value on the top of min_stack\n",
    "        if not self.min_stack:\n",
    "            self.min_stack.append(val)\n",
    "        else:\n",
    "            # compare val to the current minimum val stored -> keep new min val\n",
    "            self.min_stack.append(min(val, self.min_stack[-1]))\n",
    "\n",
    "    def pop(self):\n",
    "        self.stack.pop()\n",
    "        self.min_stack.pop()\n",
    "\n",
    "    def top(self):\n",
    "        return self.stack[-1]\n",
    "\n",
    "    def getMin(self):\n",
    "        return self.min_stack[-1]\n",
    "\n",
    "    def revealStacks(self):\n",
    "        return 'The regular stack is {}\\nThe minimum stack is {}\\nThe minimum value is {}'.format(self.stack, self.min_stack, self.min_stack[-1])"
   ]
  },
  {
   "cell_type": "code",
   "execution_count": 34,
   "id": "70114463",
   "metadata": {},
   "outputs": [],
   "source": [
    "# create class instance (initalizes with both stacks)\n",
    "minStack = MinStack()"
   ]
  },
  {
   "cell_type": "code",
   "execution_count": 35,
   "id": "362b9bf5",
   "metadata": {},
   "outputs": [
    {
     "name": "stdout",
     "output_type": "stream",
     "text": [
      "3\n",
      "-1\n",
      "The regular stack is [1, 2, 3, -1, 5]\n",
      "The minimum stack is [1, 1, 1, -1, -1]\n",
      "The minimum value is -1\n"
     ]
    }
   ],
   "source": [
    "# test code \n",
    "\n",
    "# add (bot of stack) [1,2,3,4] (top of stack)\n",
    "minStack.push(1)\n",
    "minStack.push(2)\n",
    "minStack.push(3)\n",
    "minStack.push(4)\n",
    "\n",
    "# remove top (4)\n",
    "minStack.pop()\n",
    "\n",
    "# return top of stack -> 3\n",
    "print(minStack.top())\n",
    "\n",
    "# add -1, 5 to stack [1,2,3,-1,5]\n",
    "minStack.push(-1)\n",
    "minStack.push(5)\n",
    "\n",
    "# return the min val of stack -> -1\n",
    "print(minStack.getMin())\n",
    "\n",
    "# reveal your stacks\n",
    "print(minStack.revealStacks())"
   ]
  },
  {
   "cell_type": "code",
   "execution_count": null,
   "id": "8e2e4fd9",
   "metadata": {},
   "outputs": [],
   "source": []
  },
  {
   "cell_type": "code",
   "execution_count": null,
   "id": "00a73646",
   "metadata": {},
   "outputs": [],
   "source": []
  }
 ],
 "metadata": {
  "kernelspec": {
   "display_name": "general_python",
   "language": "python",
   "name": "python3"
  },
  "language_info": {
   "codemirror_mode": {
    "name": "ipython",
    "version": 3
   },
   "file_extension": ".py",
   "mimetype": "text/x-python",
   "name": "python",
   "nbconvert_exporter": "python",
   "pygments_lexer": "ipython3",
   "version": "3.12.9"
  }
 },
 "nbformat": 4,
 "nbformat_minor": 5
}
