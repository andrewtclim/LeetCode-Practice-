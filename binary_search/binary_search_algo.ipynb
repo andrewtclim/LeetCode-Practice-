{
 "cells": [
  {
   "cell_type": "code",
   "execution_count": 1,
   "id": "4d21d4ab",
   "metadata": {},
   "outputs": [],
   "source": [
    "from typing import List"
   ]
  },
  {
   "cell_type": "code",
   "execution_count": null,
   "id": "b5607a24",
   "metadata": {},
   "outputs": [],
   "source": [
    "# This is the binary search algorithim in O(log n)\n",
    "# Eliminates half of the array with each loop\n",
    "# Goal is to return the index of our target "
   ]
  },
  {
   "cell_type": "code",
   "execution_count": 3,
   "id": "5f8c19b2",
   "metadata": {},
   "outputs": [],
   "source": [
    "class Solution:\n",
    "    def binary_search(self, nums:List[int], target:int) -> int:\n",
    "        # initalize pointers for the first and last index \n",
    "        l, r = 0, len(nums)-1\n",
    "        \n",
    "        while l <= r:\n",
    "            mid = (l+r)//2\n",
    "            midpoint = nums[mid]\n",
    "            if target == midpoint:\n",
    "                return mid\n",
    "            elif target > midpoint:\n",
    "                # eliminates bottom half\n",
    "                l = mid + 1\n",
    "            else:\n",
    "                # eliminates top half \n",
    "                r = mid - 1\n",
    "        # no target found\n",
    "        return -1"
   ]
  },
  {
   "cell_type": "code",
   "execution_count": null,
   "id": "bf174fe2",
   "metadata": {},
   "outputs": [],
   "source": []
  }
 ],
 "metadata": {
  "kernelspec": {
   "display_name": "Python 3",
   "language": "python",
   "name": "python3"
  },
  "language_info": {
   "codemirror_mode": {
    "name": "ipython",
    "version": 3
   },
   "file_extension": ".py",
   "mimetype": "text/x-python",
   "name": "python",
   "nbconvert_exporter": "python",
   "pygments_lexer": "ipython3",
   "version": "3.11.11"
  }
 },
 "nbformat": 4,
 "nbformat_minor": 5
}
